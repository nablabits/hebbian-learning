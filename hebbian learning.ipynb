{
 "cells": [
  {
   "cell_type": "code",
   "execution_count": 1,
   "metadata": {},
   "outputs": [
    {
     "data": {
      "text/html": [
       "\n",
       "    <div class=\"bk-root\">\n",
       "        <a href=\"https://bokeh.org\" target=\"_blank\" class=\"bk-logo bk-logo-small bk-logo-notebook\"></a>\n",
       "        <span id=\"1002\">Loading BokehJS ...</span>\n",
       "    </div>"
      ]
     },
     "metadata": {},
     "output_type": "display_data"
    },
    {
     "data": {
      "application/javascript": [
       "\n",
       "(function(root) {\n",
       "  function now() {\n",
       "    return new Date();\n",
       "  }\n",
       "\n",
       "  const force = true;\n",
       "\n",
       "  if (typeof root._bokeh_onload_callbacks === \"undefined\" || force === true) {\n",
       "    root._bokeh_onload_callbacks = [];\n",
       "    root._bokeh_is_loading = undefined;\n",
       "  }\n",
       "\n",
       "  const JS_MIME_TYPE = 'application/javascript';\n",
       "  const HTML_MIME_TYPE = 'text/html';\n",
       "  const EXEC_MIME_TYPE = 'application/vnd.bokehjs_exec.v0+json';\n",
       "  const CLASS_NAME = 'output_bokeh rendered_html';\n",
       "\n",
       "  /**\n",
       "   * Render data to the DOM node\n",
       "   */\n",
       "  function render(props, node) {\n",
       "    const script = document.createElement(\"script\");\n",
       "    node.appendChild(script);\n",
       "  }\n",
       "\n",
       "  /**\n",
       "   * Handle when an output is cleared or removed\n",
       "   */\n",
       "  function handleClearOutput(event, handle) {\n",
       "    const cell = handle.cell;\n",
       "\n",
       "    const id = cell.output_area._bokeh_element_id;\n",
       "    const server_id = cell.output_area._bokeh_server_id;\n",
       "    // Clean up Bokeh references\n",
       "    if (id != null && id in Bokeh.index) {\n",
       "      Bokeh.index[id].model.document.clear();\n",
       "      delete Bokeh.index[id];\n",
       "    }\n",
       "\n",
       "    if (server_id !== undefined) {\n",
       "      // Clean up Bokeh references\n",
       "      const cmd_clean = \"from bokeh.io.state import curstate; print(curstate().uuid_to_server['\" + server_id + \"'].get_sessions()[0].document.roots[0]._id)\";\n",
       "      cell.notebook.kernel.execute(cmd_clean, {\n",
       "        iopub: {\n",
       "          output: function(msg) {\n",
       "            const id = msg.content.text.trim();\n",
       "            if (id in Bokeh.index) {\n",
       "              Bokeh.index[id].model.document.clear();\n",
       "              delete Bokeh.index[id];\n",
       "            }\n",
       "          }\n",
       "        }\n",
       "      });\n",
       "      // Destroy server and session\n",
       "      const cmd_destroy = \"import bokeh.io.notebook as ion; ion.destroy_server('\" + server_id + \"')\";\n",
       "      cell.notebook.kernel.execute(cmd_destroy);\n",
       "    }\n",
       "  }\n",
       "\n",
       "  /**\n",
       "   * Handle when a new output is added\n",
       "   */\n",
       "  function handleAddOutput(event, handle) {\n",
       "    const output_area = handle.output_area;\n",
       "    const output = handle.output;\n",
       "\n",
       "    // limit handleAddOutput to display_data with EXEC_MIME_TYPE content only\n",
       "    if ((output.output_type != \"display_data\") || (!Object.prototype.hasOwnProperty.call(output.data, EXEC_MIME_TYPE))) {\n",
       "      return\n",
       "    }\n",
       "\n",
       "    const toinsert = output_area.element.find(\".\" + CLASS_NAME.split(' ')[0]);\n",
       "\n",
       "    if (output.metadata[EXEC_MIME_TYPE][\"id\"] !== undefined) {\n",
       "      toinsert[toinsert.length - 1].firstChild.textContent = output.data[JS_MIME_TYPE];\n",
       "      // store reference to embed id on output_area\n",
       "      output_area._bokeh_element_id = output.metadata[EXEC_MIME_TYPE][\"id\"];\n",
       "    }\n",
       "    if (output.metadata[EXEC_MIME_TYPE][\"server_id\"] !== undefined) {\n",
       "      const bk_div = document.createElement(\"div\");\n",
       "      bk_div.innerHTML = output.data[HTML_MIME_TYPE];\n",
       "      const script_attrs = bk_div.children[0].attributes;\n",
       "      for (let i = 0; i < script_attrs.length; i++) {\n",
       "        toinsert[toinsert.length - 1].firstChild.setAttribute(script_attrs[i].name, script_attrs[i].value);\n",
       "        toinsert[toinsert.length - 1].firstChild.textContent = bk_div.children[0].textContent\n",
       "      }\n",
       "      // store reference to server id on output_area\n",
       "      output_area._bokeh_server_id = output.metadata[EXEC_MIME_TYPE][\"server_id\"];\n",
       "    }\n",
       "  }\n",
       "\n",
       "  function register_renderer(events, OutputArea) {\n",
       "\n",
       "    function append_mime(data, metadata, element) {\n",
       "      // create a DOM node to render to\n",
       "      const toinsert = this.create_output_subarea(\n",
       "        metadata,\n",
       "        CLASS_NAME,\n",
       "        EXEC_MIME_TYPE\n",
       "      );\n",
       "      this.keyboard_manager.register_events(toinsert);\n",
       "      // Render to node\n",
       "      const props = {data: data, metadata: metadata[EXEC_MIME_TYPE]};\n",
       "      render(props, toinsert[toinsert.length - 1]);\n",
       "      element.append(toinsert);\n",
       "      return toinsert\n",
       "    }\n",
       "\n",
       "    /* Handle when an output is cleared or removed */\n",
       "    events.on('clear_output.CodeCell', handleClearOutput);\n",
       "    events.on('delete.Cell', handleClearOutput);\n",
       "\n",
       "    /* Handle when a new output is added */\n",
       "    events.on('output_added.OutputArea', handleAddOutput);\n",
       "\n",
       "    /**\n",
       "     * Register the mime type and append_mime function with output_area\n",
       "     */\n",
       "    OutputArea.prototype.register_mime_type(EXEC_MIME_TYPE, append_mime, {\n",
       "      /* Is output safe? */\n",
       "      safe: true,\n",
       "      /* Index of renderer in `output_area.display_order` */\n",
       "      index: 0\n",
       "    });\n",
       "  }\n",
       "\n",
       "  // register the mime type if in Jupyter Notebook environment and previously unregistered\n",
       "  if (root.Jupyter !== undefined) {\n",
       "    const events = require('base/js/events');\n",
       "    const OutputArea = require('notebook/js/outputarea').OutputArea;\n",
       "\n",
       "    if (OutputArea.prototype.mime_types().indexOf(EXEC_MIME_TYPE) == -1) {\n",
       "      register_renderer(events, OutputArea);\n",
       "    }\n",
       "  }\n",
       "\n",
       "  \n",
       "  if (typeof (root._bokeh_timeout) === \"undefined\" || force === true) {\n",
       "    root._bokeh_timeout = Date.now() + 5000;\n",
       "    root._bokeh_failed_load = false;\n",
       "  }\n",
       "\n",
       "  const NB_LOAD_WARNING = {'data': {'text/html':\n",
       "     \"<div style='background-color: #fdd'>\\n\"+\n",
       "     \"<p>\\n\"+\n",
       "     \"BokehJS does not appear to have successfully loaded. If loading BokehJS from CDN, this \\n\"+\n",
       "     \"may be due to a slow or bad network connection. Possible fixes:\\n\"+\n",
       "     \"</p>\\n\"+\n",
       "     \"<ul>\\n\"+\n",
       "     \"<li>re-rerun `output_notebook()` to attempt to load from CDN again, or</li>\\n\"+\n",
       "     \"<li>use INLINE resources instead, as so:</li>\\n\"+\n",
       "     \"</ul>\\n\"+\n",
       "     \"<code>\\n\"+\n",
       "     \"from bokeh.resources import INLINE\\n\"+\n",
       "     \"output_notebook(resources=INLINE)\\n\"+\n",
       "     \"</code>\\n\"+\n",
       "     \"</div>\"}};\n",
       "\n",
       "  function display_loaded() {\n",
       "    const el = document.getElementById(\"1002\");\n",
       "    if (el != null) {\n",
       "      el.textContent = \"BokehJS is loading...\";\n",
       "    }\n",
       "    if (root.Bokeh !== undefined) {\n",
       "      if (el != null) {\n",
       "        el.textContent = \"BokehJS \" + root.Bokeh.version + \" successfully loaded.\";\n",
       "      }\n",
       "    } else if (Date.now() < root._bokeh_timeout) {\n",
       "      setTimeout(display_loaded, 100)\n",
       "    }\n",
       "  }\n",
       "\n",
       "\n",
       "  function run_callbacks() {\n",
       "    try {\n",
       "      root._bokeh_onload_callbacks.forEach(function(callback) {\n",
       "        if (callback != null)\n",
       "          callback();\n",
       "      });\n",
       "    } finally {\n",
       "      delete root._bokeh_onload_callbacks\n",
       "    }\n",
       "    console.debug(\"Bokeh: all callbacks have finished\");\n",
       "  }\n",
       "\n",
       "  function load_libs(css_urls, js_urls, callback) {\n",
       "    if (css_urls == null) css_urls = [];\n",
       "    if (js_urls == null) js_urls = [];\n",
       "\n",
       "    root._bokeh_onload_callbacks.push(callback);\n",
       "    if (root._bokeh_is_loading > 0) {\n",
       "      console.debug(\"Bokeh: BokehJS is being loaded, scheduling callback at\", now());\n",
       "      return null;\n",
       "    }\n",
       "    if (js_urls == null || js_urls.length === 0) {\n",
       "      run_callbacks();\n",
       "      return null;\n",
       "    }\n",
       "    console.debug(\"Bokeh: BokehJS not loaded, scheduling load and callback at\", now());\n",
       "    root._bokeh_is_loading = css_urls.length + js_urls.length;\n",
       "\n",
       "    function on_load() {\n",
       "      root._bokeh_is_loading--;\n",
       "      if (root._bokeh_is_loading === 0) {\n",
       "        console.debug(\"Bokeh: all BokehJS libraries/stylesheets loaded\");\n",
       "        run_callbacks()\n",
       "      }\n",
       "    }\n",
       "\n",
       "    function on_error(url) {\n",
       "      console.error(\"failed to load \" + url);\n",
       "    }\n",
       "\n",
       "    for (let i = 0; i < css_urls.length; i++) {\n",
       "      const url = css_urls[i];\n",
       "      const element = document.createElement(\"link\");\n",
       "      element.onload = on_load;\n",
       "      element.onerror = on_error.bind(null, url);\n",
       "      element.rel = \"stylesheet\";\n",
       "      element.type = \"text/css\";\n",
       "      element.href = url;\n",
       "      console.debug(\"Bokeh: injecting link tag for BokehJS stylesheet: \", url);\n",
       "      document.body.appendChild(element);\n",
       "    }\n",
       "\n",
       "    for (let i = 0; i < js_urls.length; i++) {\n",
       "      const url = js_urls[i];\n",
       "      const element = document.createElement('script');\n",
       "      element.onload = on_load;\n",
       "      element.onerror = on_error.bind(null, url);\n",
       "      element.async = false;\n",
       "      element.src = url;\n",
       "      console.debug(\"Bokeh: injecting script tag for BokehJS library: \", url);\n",
       "      document.head.appendChild(element);\n",
       "    }\n",
       "  };\n",
       "\n",
       "  function inject_raw_css(css) {\n",
       "    const element = document.createElement(\"style\");\n",
       "    element.appendChild(document.createTextNode(css));\n",
       "    document.body.appendChild(element);\n",
       "  }\n",
       "\n",
       "  \n",
       "  const js_urls = [\"https://cdn.bokeh.org/bokeh/release/bokeh-2.4.2.min.js\", \"https://cdn.bokeh.org/bokeh/release/bokeh-gl-2.4.2.min.js\", \"https://cdn.bokeh.org/bokeh/release/bokeh-widgets-2.4.2.min.js\", \"https://cdn.bokeh.org/bokeh/release/bokeh-tables-2.4.2.min.js\", \"https://cdn.bokeh.org/bokeh/release/bokeh-mathjax-2.4.2.min.js\"];\n",
       "  const css_urls = [];\n",
       "  \n",
       "\n",
       "  const inline_js = [\n",
       "    function(Bokeh) {\n",
       "      Bokeh.set_log_level(\"info\");\n",
       "    },\n",
       "    function(Bokeh) {\n",
       "    \n",
       "    \n",
       "    }\n",
       "  ];\n",
       "\n",
       "  function run_inline_js() {\n",
       "    \n",
       "    if (root.Bokeh !== undefined || force === true) {\n",
       "      \n",
       "    for (let i = 0; i < inline_js.length; i++) {\n",
       "      inline_js[i].call(root, root.Bokeh);\n",
       "    }\n",
       "    if (force === true) {\n",
       "        display_loaded();\n",
       "      }} else if (Date.now() < root._bokeh_timeout) {\n",
       "      setTimeout(run_inline_js, 100);\n",
       "    } else if (!root._bokeh_failed_load) {\n",
       "      console.log(\"Bokeh: BokehJS failed to load within specified timeout.\");\n",
       "      root._bokeh_failed_load = true;\n",
       "    } else if (force !== true) {\n",
       "      const cell = $(document.getElementById(\"1002\")).parents('.cell').data().cell;\n",
       "      cell.output_area.append_execute_result(NB_LOAD_WARNING)\n",
       "    }\n",
       "\n",
       "  }\n",
       "\n",
       "  if (root._bokeh_is_loading === 0) {\n",
       "    console.debug(\"Bokeh: BokehJS loaded, going straight to plotting\");\n",
       "    run_inline_js();\n",
       "  } else {\n",
       "    load_libs(css_urls, js_urls, function() {\n",
       "      console.debug(\"Bokeh: BokehJS plotting callback run at\", now());\n",
       "      run_inline_js();\n",
       "    });\n",
       "  }\n",
       "}(window));"
      ],
      "application/vnd.bokehjs_load.v0+json": "\n(function(root) {\n  function now() {\n    return new Date();\n  }\n\n  const force = true;\n\n  if (typeof root._bokeh_onload_callbacks === \"undefined\" || force === true) {\n    root._bokeh_onload_callbacks = [];\n    root._bokeh_is_loading = undefined;\n  }\n\n  \n\n  \n  if (typeof (root._bokeh_timeout) === \"undefined\" || force === true) {\n    root._bokeh_timeout = Date.now() + 5000;\n    root._bokeh_failed_load = false;\n  }\n\n  const NB_LOAD_WARNING = {'data': {'text/html':\n     \"<div style='background-color: #fdd'>\\n\"+\n     \"<p>\\n\"+\n     \"BokehJS does not appear to have successfully loaded. If loading BokehJS from CDN, this \\n\"+\n     \"may be due to a slow or bad network connection. Possible fixes:\\n\"+\n     \"</p>\\n\"+\n     \"<ul>\\n\"+\n     \"<li>re-rerun `output_notebook()` to attempt to load from CDN again, or</li>\\n\"+\n     \"<li>use INLINE resources instead, as so:</li>\\n\"+\n     \"</ul>\\n\"+\n     \"<code>\\n\"+\n     \"from bokeh.resources import INLINE\\n\"+\n     \"output_notebook(resources=INLINE)\\n\"+\n     \"</code>\\n\"+\n     \"</div>\"}};\n\n  function display_loaded() {\n    const el = document.getElementById(\"1002\");\n    if (el != null) {\n      el.textContent = \"BokehJS is loading...\";\n    }\n    if (root.Bokeh !== undefined) {\n      if (el != null) {\n        el.textContent = \"BokehJS \" + root.Bokeh.version + \" successfully loaded.\";\n      }\n    } else if (Date.now() < root._bokeh_timeout) {\n      setTimeout(display_loaded, 100)\n    }\n  }\n\n\n  function run_callbacks() {\n    try {\n      root._bokeh_onload_callbacks.forEach(function(callback) {\n        if (callback != null)\n          callback();\n      });\n    } finally {\n      delete root._bokeh_onload_callbacks\n    }\n    console.debug(\"Bokeh: all callbacks have finished\");\n  }\n\n  function load_libs(css_urls, js_urls, callback) {\n    if (css_urls == null) css_urls = [];\n    if (js_urls == null) js_urls = [];\n\n    root._bokeh_onload_callbacks.push(callback);\n    if (root._bokeh_is_loading > 0) {\n      console.debug(\"Bokeh: BokehJS is being loaded, scheduling callback at\", now());\n      return null;\n    }\n    if (js_urls == null || js_urls.length === 0) {\n      run_callbacks();\n      return null;\n    }\n    console.debug(\"Bokeh: BokehJS not loaded, scheduling load and callback at\", now());\n    root._bokeh_is_loading = css_urls.length + js_urls.length;\n\n    function on_load() {\n      root._bokeh_is_loading--;\n      if (root._bokeh_is_loading === 0) {\n        console.debug(\"Bokeh: all BokehJS libraries/stylesheets loaded\");\n        run_callbacks()\n      }\n    }\n\n    function on_error(url) {\n      console.error(\"failed to load \" + url);\n    }\n\n    for (let i = 0; i < css_urls.length; i++) {\n      const url = css_urls[i];\n      const element = document.createElement(\"link\");\n      element.onload = on_load;\n      element.onerror = on_error.bind(null, url);\n      element.rel = \"stylesheet\";\n      element.type = \"text/css\";\n      element.href = url;\n      console.debug(\"Bokeh: injecting link tag for BokehJS stylesheet: \", url);\n      document.body.appendChild(element);\n    }\n\n    for (let i = 0; i < js_urls.length; i++) {\n      const url = js_urls[i];\n      const element = document.createElement('script');\n      element.onload = on_load;\n      element.onerror = on_error.bind(null, url);\n      element.async = false;\n      element.src = url;\n      console.debug(\"Bokeh: injecting script tag for BokehJS library: \", url);\n      document.head.appendChild(element);\n    }\n  };\n\n  function inject_raw_css(css) {\n    const element = document.createElement(\"style\");\n    element.appendChild(document.createTextNode(css));\n    document.body.appendChild(element);\n  }\n\n  \n  const js_urls = [\"https://cdn.bokeh.org/bokeh/release/bokeh-2.4.2.min.js\", \"https://cdn.bokeh.org/bokeh/release/bokeh-gl-2.4.2.min.js\", \"https://cdn.bokeh.org/bokeh/release/bokeh-widgets-2.4.2.min.js\", \"https://cdn.bokeh.org/bokeh/release/bokeh-tables-2.4.2.min.js\", \"https://cdn.bokeh.org/bokeh/release/bokeh-mathjax-2.4.2.min.js\"];\n  const css_urls = [];\n  \n\n  const inline_js = [\n    function(Bokeh) {\n      Bokeh.set_log_level(\"info\");\n    },\n    function(Bokeh) {\n    \n    \n    }\n  ];\n\n  function run_inline_js() {\n    \n    if (root.Bokeh !== undefined || force === true) {\n      \n    for (let i = 0; i < inline_js.length; i++) {\n      inline_js[i].call(root, root.Bokeh);\n    }\n    if (force === true) {\n        display_loaded();\n      }} else if (Date.now() < root._bokeh_timeout) {\n      setTimeout(run_inline_js, 100);\n    } else if (!root._bokeh_failed_load) {\n      console.log(\"Bokeh: BokehJS failed to load within specified timeout.\");\n      root._bokeh_failed_load = true;\n    } else if (force !== true) {\n      const cell = $(document.getElementById(\"1002\")).parents('.cell').data().cell;\n      cell.output_area.append_execute_result(NB_LOAD_WARNING)\n    }\n\n  }\n\n  if (root._bokeh_is_loading === 0) {\n    console.debug(\"Bokeh: BokehJS loaded, going straight to plotting\");\n    run_inline_js();\n  } else {\n    load_libs(css_urls, js_urls, function() {\n      console.debug(\"Bokeh: BokehJS plotting callback run at\", now());\n      run_inline_js();\n    });\n  }\n}(window));"
     },
     "metadata": {},
     "output_type": "display_data"
    }
   ],
   "source": [
    "import numpy as np\n",
    "import pandas as pd\n",
    "\n",
    "from bokeh.plotting import figure, output_notebook, show\n",
    "from bokeh.models import ColumnDataSource\n",
    "from bokeh.transform import factor_cmap\n",
    "from bokeh.palettes import Spectral6\n",
    "\n",
    "from hebbian import GenerateArrayFromImage, Hebbian\n",
    "output_notebook()"
   ]
  },
  {
   "cell_type": "markdown",
   "metadata": {},
   "source": [
    "# About this notebook\n",
    "Skimmig [The computational beauty of nature](https://mitpress.mit.edu/books/computational-beauty-nature) I came across this very cool idea of Hebbian Learning which may explain, at least in a simple way, how associative memory works.\n",
    "\n",
    "## Neural network\n",
    "We will build a neural network with a single layer where all the neurons are mutually connected one another. Then we will store a memory and try to recall it from partial information, kind of corrupted memomry.\n",
    "\n",
    "## Neurons that fire together, wire together\n",
    "The key take away here is that these memories are stored in form of weights between the neurons such that if two neurons are active at the same time their connection gets reinforced whereas if they don't their connection weakens. This is popularly known as: *Neurons that fire together, wire together* and allows to progressively refine inputs until they converge to some stored memory.\n",
    "\n",
    "## How weights are stored\n",
    "Given that all the neurons are connected together, a single neuron will get $n-1$ inputs where $n$ is the amount of neurons. Each of the inputs will have a weight equal to:\n",
    "$$w_{ij}=\\frac{1}{n}x_i\\cdot x_j$$\n",
    "\n",
    "Where:\n",
    "- $w_{ij}$ is the weight of the connection between the current neuron $i$ and some neuron else $j$\n",
    "- $n$, as said, is the number of neurons in the system.\n",
    "- $x_i$ is the activation value of current neuron. When setting up the network that effectively means, the information we want to store in binary form, either $(-1, 1)$. Every neuron will deal with one bit of information.\n",
    "- $x_j$ is the activation value of the connected neuron also in binary form, either $(-1, 1)$\n",
    "\n",
    "Let's see a numerical example of this algebra:"
   ]
  },
  {
   "cell_type": "code",
   "execution_count": 3,
   "metadata": {
    "jupyter": {
     "source_hidden": true
    },
    "tags": []
   },
   "outputs": [
    {
     "data": {
      "text/plain": [
       "array([[        nan, -0.33333333,  0.33333333],\n",
       "       [-0.33333333,         nan, -0.33333333],\n",
       "       [ 0.33333333, -0.33333333,         nan]])"
      ]
     },
     "execution_count": 3,
     "metadata": {},
     "output_type": "execute_result"
    }
   ],
   "source": [
    "initial_activation_values = np.array([1, -1, 1])  # A, B, C\n",
    "\n",
    "# This below represents the weights between neurons\n",
    "1/3 * np.array([\n",
    "    [np.nan, -1, 1],  # AB, AC\n",
    "    [-1, np.nan, -1],  # BA, BC\n",
    "    [1, -1, np.nan]  # CA, CB\n",
    "])"
   ]
  },
  {
   "cell_type": "markdown",
   "metadata": {},
   "source": [
    "## How the network is updated\n",
    "Now that we have the network set up, we have to deal with the update rule that defines how activation values for neurons evolve over time from an initial partial information to a converged state whether it means recalling the correct memory or not.\n",
    "\n"
   ]
  },
  {
   "cell_type": "markdown",
   "metadata": {},
   "source": [
    "# Test the convergence of random arrays\n",
    "We tested small arrays in the tests and they worked well. Now it's time to test random arrays of\n",
    "the size of the actual images we will have."
   ]
  },
  {
   "cell_type": "code",
   "execution_count": 4,
   "metadata": {},
   "outputs": [
    {
     "data": {
      "text/plain": [
       "(99, True, 0.525)"
      ]
     },
     "execution_count": 4,
     "metadata": {},
     "output_type": "execute_result"
    }
   ],
   "source": [
    "size = 400\n",
    "k0 = 2 * np.random.binomial(1, .5, size=size) - 1\n",
    "k1 = 2 * np.random.binomial(1, .5, size=size) - 1\n",
    "similarity = (k0 == k1).sum() / size\n",
    "h = Hebbian(k0, k1, max_iterations=100)\n",
    "h.run()\n",
    "h.max_iterations, h.has_converged(), similarity"
   ]
  },
  {
   "cell_type": "markdown",
   "metadata": {},
   "source": [
    "It seems that no matter the size of the array when the similarity is over ~50%, it\n",
    "converges at most at the second iteration, whereas when the similarity is under ~50%, it \n",
    "exhausts all the max iterations. It would be worth to:\n",
    "  * plot the convergence as a function of similarity\n",
    "  * find loops within the history for non convergent samples"
   ]
  },
  {
   "cell_type": "markdown",
   "metadata": {},
   "source": [
    "## Plot convergence as a function of similarity\n",
    "After trying with binomial and uniform distributions for the flawed arrays, we realized that\n",
    "effectively there's a switch point in the .5 mark. To be more certain about this outcome we\n",
    "ran the plot altering the initial array one by one all the way down to the last index to check\n",
    "that, indeed, everything over 50% similarity converges whereas everything below doesn't"
   ]
  },
  {
   "cell_type": "code",
   "execution_count": 5,
   "metadata": {},
   "outputs": [],
   "source": [
    "def alter_array(array, n):\n",
    "    \"\"\"Swap the first n digits of an array.\"\"\"\n",
    "    mask = np.ones(array.size)\n",
    "    mask[:n] = 0\n",
    "    positive_subset = (mask == 0) & (array == 1)\n",
    "    negative_subset = (mask == 0) & (array == -1)\n",
    "    altered_array = array.copy()\n",
    "    altered_array[positive_subset] = -1  # swap the positive subset\n",
    "    altered_array[negative_subset] = 1 # swap the negative subset\n",
    "    return altered_array"
   ]
  },
  {
   "cell_type": "code",
   "execution_count": 6,
   "metadata": {},
   "outputs": [],
   "source": [
    "size = 300\n",
    "mi, conv, sim, jit = list(), list(), list(), list()\n",
    "for n in range(300):\n",
    "    # try with binomial dist\n",
    "    k0 = 2 * np.random.binomial(1, .5, size=size) - 1\n",
    "    # k1 = 2 * np.random.binomial(1, .5, size=size) - 1\n",
    "    k1 = alter_array(k0, n)\n",
    "    similarity = (k0 == k1).sum() / size\n",
    "    h = Hebbian(k0, k1, max_iterations=100)\n",
    "    h.run()\n",
    "    mi.append(h.max_iterations)\n",
    "    conv.append(h.has_converged())\n",
    "    sim.append(similarity)\n",
    "    jitter = np.random.uniform()\n",
    "    if not h.has_converged():\n",
    "        jitter = - 1 * jitter\n",
    "    jit.append(jitter)\n",
    "        "
   ]
  },
  {
   "cell_type": "code",
   "execution_count": 7,
   "metadata": {},
   "outputs": [
    {
     "data": {
      "text/html": [
       "\n",
       "\n",
       "\n",
       "\n",
       "\n",
       "\n",
       "  <div class=\"bk-root\" id=\"17d903e9-5aca-4a7a-82a8-a2e7e71c6835\" data-root-id=\"1004\"></div>\n"
      ]
     },
     "metadata": {},
     "output_type": "display_data"
    },
    {
     "data": {
      "application/javascript": [
       "(function(root) {\n",
       "  function embed_document(root) {\n",
       "    \n",
       "  const docs_json = {\"e628e257-fa87-421b-95bb-9ae2c6eac457\":{\"defs\":[],\"roots\":{\"references\":[{\"attributes\":{\"below\":[{\"id\":\"1013\"}],\"center\":[{\"id\":\"1016\"},{\"id\":\"1020\"},{\"id\":\"1053\"}],\"height\":400,\"left\":[{\"id\":\"1017\"}],\"renderers\":[{\"id\":\"1040\"}],\"title\":{\"id\":\"1042\"},\"toolbar\":{\"id\":\"1028\"},\"width\":800,\"x_range\":{\"id\":\"1005\"},\"x_scale\":{\"id\":\"1009\"},\"y_range\":{\"id\":\"1007\"},\"y_scale\":{\"id\":\"1011\"}},\"id\":\"1004\",\"subtype\":\"Figure\",\"type\":\"Plot\"},{\"attributes\":{},\"id\":\"1026\",\"type\":\"HelpTool\"},{\"attributes\":{},\"id\":\"1011\",\"type\":\"LinearScale\"},{\"attributes\":{},\"id\":\"1021\",\"type\":\"PanTool\"},{\"attributes\":{\"fill_alpha\":{\"value\":0.1},\"fill_color\":{\"field\":\"factors\",\"transform\":{\"id\":\"1035\"}},\"hatch_alpha\":{\"value\":0.1},\"hatch_color\":{\"field\":\"factors\",\"transform\":{\"id\":\"1035\"}},\"line_alpha\":{\"value\":0.1},\"line_color\":{\"field\":\"factors\",\"transform\":{\"id\":\"1035\"}},\"x\":{\"field\":\"similarity\"},\"y\":{\"field\":\"jitter\"}},\"id\":\"1038\",\"type\":\"Circle\"},{\"attributes\":{},\"id\":\"1009\",\"type\":\"LinearScale\"},{\"attributes\":{\"coordinates\":null,\"group\":null},\"id\":\"1042\",\"type\":\"Title\"},{\"attributes\":{\"fill_color\":{\"field\":\"factors\",\"transform\":{\"id\":\"1035\"}},\"hatch_color\":{\"field\":\"factors\",\"transform\":{\"id\":\"1035\"}},\"line_color\":{\"field\":\"factors\",\"transform\":{\"id\":\"1035\"}},\"x\":{\"field\":\"similarity\"},\"y\":{\"field\":\"jitter\"}},\"id\":\"1037\",\"type\":\"Circle\"},{\"attributes\":{},\"id\":\"1045\",\"type\":\"BasicTickFormatter\"},{\"attributes\":{\"source\":{\"id\":\"1003\"}},\"id\":\"1041\",\"type\":\"CDSView\"},{\"attributes\":{},\"id\":\"1014\",\"type\":\"BasicTicker\"},{\"attributes\":{},\"id\":\"1049\",\"type\":\"AllLabels\"},{\"attributes\":{},\"id\":\"1046\",\"type\":\"AllLabels\"},{\"attributes\":{\"data\":{\"convergence\":[true,true,true,true,true,true,true,true,true,true,true,true,true,true,true,true,true,true,true,true,true,true,true,true,true,true,true,true,true,true,true,true,true,true,true,true,true,true,true,true,true,true,true,true,true,true,true,true,true,true,true,true,true,true,true,true,true,true,true,true,true,true,true,true,true,true,true,true,true,true,true,true,true,true,true,true,true,true,true,true,true,true,true,true,true,true,true,true,true,true,true,true,true,true,true,true,true,true,true,true,true,true,true,true,true,true,true,true,true,true,true,true,true,true,true,true,true,true,true,true,true,true,true,true,true,true,true,true,true,true,true,true,true,true,true,true,true,true,true,true,true,true,true,true,true,true,true,true,true,true,false,false,false,false,false,false,false,false,false,false,false,false,false,false,false,false,false,false,false,false,false,false,false,false,false,false,false,false,false,false,false,false,false,false,false,false,false,false,false,false,false,false,false,false,false,false,false,false,false,false,false,false,false,false,false,false,false,false,false,false,false,false,false,false,false,false,false,false,false,false,false,false,false,false,false,false,false,false,false,false,false,false,false,false,false,false,false,false,false,false,false,false,false,false,false,false,false,false,false,false,false,false,false,false,false,false,false,false,false,false,false,false,false,false,false,false,false,false,false,false,false,false,false,false,false,false,false,false,false,false,false,false,false,false,false,false,false,false,false,false,false,false,false,false,false,false,false,false,false,false],\"factors\":[\"99\",\"99\",\"99\",\"99\",\"99\",\"99\",\"99\",\"99\",\"99\",\"99\",\"99\",\"99\",\"99\",\"99\",\"99\",\"99\",\"99\",\"99\",\"99\",\"99\",\"99\",\"99\",\"99\",\"99\",\"99\",\"99\",\"99\",\"99\",\"99\",\"99\",\"99\",\"99\",\"99\",\"99\",\"99\",\"99\",\"99\",\"99\",\"99\",\"99\",\"99\",\"99\",\"99\",\"99\",\"99\",\"99\",\"99\",\"99\",\"99\",\"99\",\"99\",\"99\",\"99\",\"99\",\"99\",\"99\",\"99\",\"99\",\"99\",\"99\",\"99\",\"99\",\"99\",\"99\",\"99\",\"99\",\"99\",\"99\",\"99\",\"99\",\"99\",\"99\",\"99\",\"99\",\"99\",\"99\",\"99\",\"99\",\"99\",\"99\",\"99\",\"99\",\"99\",\"99\",\"99\",\"99\",\"99\",\"99\",\"99\",\"99\",\"99\",\"99\",\"99\",\"99\",\"99\",\"99\",\"99\",\"99\",\"99\",\"99\",\"99\",\"99\",\"99\",\"99\",\"99\",\"99\",\"99\",\"99\",\"99\",\"99\",\"99\",\"99\",\"99\",\"99\",\"99\",\"99\",\"99\",\"99\",\"99\",\"99\",\"99\",\"99\",\"99\",\"99\",\"99\",\"99\",\"99\",\"99\",\"99\",\"99\",\"99\",\"99\",\"99\",\"99\",\"99\",\"99\",\"99\",\"99\",\"99\",\"99\",\"99\",\"99\",\"99\",\"99\",\"99\",\"99\",\"99\",\"99\",\"99\",\"99\",\"98\",\"98\",\"98\",\"98\",\"98\",\"98\",\"98\",\"98\",\"98\",\"98\",\"98\",\"98\",\"98\",\"98\",\"98\",\"98\",\"98\",\"98\",\"98\",\"98\",\"98\",\"98\",\"98\",\"98\",\"98\",\"98\",\"98\",\"98\",\"98\",\"98\",\"98\",\"98\",\"98\",\"98\",\"98\",\"98\",\"98\",\"98\",\"98\",\"98\",\"98\",\"98\",\"98\",\"98\",\"98\",\"98\",\"98\",\"98\",\"98\",\"98\",\"98\",\"98\",\"98\",\"98\",\"98\",\"98\",\"98\",\"98\",\"98\",\"98\",\"98\",\"98\",\"98\",\"98\",\"98\",\"98\",\"98\",\"98\",\"98\",\"98\",\"98\",\"98\",\"98\",\"98\",\"98\",\"98\",\"98\",\"98\",\"98\",\"98\",\"98\",\"98\",\"98\",\"98\",\"98\",\"98\",\"98\",\"98\",\"98\",\"98\",\"98\",\"98\",\"98\",\"98\",\"98\",\"98\",\"98\",\"98\",\"98\",\"98\",\"98\",\"98\",\"98\",\"98\",\"98\",\"98\",\"98\",\"98\",\"98\",\"98\",\"98\",\"98\",\"98\",\"98\",\"98\",\"98\",\"98\",\"98\",\"98\",\"98\",\"98\",\"98\",\"98\",\"98\",\"98\",\"98\",\"98\",\"98\",\"98\",\"98\",\"98\",\"98\",\"98\",\"98\",\"98\",\"98\",\"98\",\"98\",\"98\",\"98\",\"98\",\"98\",\"98\",\"98\",\"98\",\"98\",\"98\",\"98\",\"98\",\"98\"],\"index\":[0,1,2,3,4,5,6,7,8,9,10,11,12,13,14,15,16,17,18,19,20,21,22,23,24,25,26,27,28,29,30,31,32,33,34,35,36,37,38,39,40,41,42,43,44,45,46,47,48,49,50,51,52,53,54,55,56,57,58,59,60,61,62,63,64,65,66,67,68,69,70,71,72,73,74,75,76,77,78,79,80,81,82,83,84,85,86,87,88,89,90,91,92,93,94,95,96,97,98,99,100,101,102,103,104,105,106,107,108,109,110,111,112,113,114,115,116,117,118,119,120,121,122,123,124,125,126,127,128,129,130,131,132,133,134,135,136,137,138,139,140,141,142,143,144,145,146,147,148,149,150,151,152,153,154,155,156,157,158,159,160,161,162,163,164,165,166,167,168,169,170,171,172,173,174,175,176,177,178,179,180,181,182,183,184,185,186,187,188,189,190,191,192,193,194,195,196,197,198,199,200,201,202,203,204,205,206,207,208,209,210,211,212,213,214,215,216,217,218,219,220,221,222,223,224,225,226,227,228,229,230,231,232,233,234,235,236,237,238,239,240,241,242,243,244,245,246,247,248,249,250,251,252,253,254,255,256,257,258,259,260,261,262,263,264,265,266,267,268,269,270,271,272,273,274,275,276,277,278,279,280,281,282,283,284,285,286,287,288,289,290,291,292,293,294,295,296,297,298,299],\"jitter\":{\"__ndarray__\":\"ME8ANw4Z7z+x1Ez9XDLrP/B+RHydKKE/iE/g4JJv6j9QAUd6WyW8PxuIExe2tOw/UCar1itZ5T9cog+eFyvbP0waJxLqIM8/iMjhBofHvj/AQLX5S+2MPzwcBoI6R+Y/7iNXsV1d0T8pCvZQsZ3hP2A1j418a7o/oFb5epD+qD8YBcnXBf3nP0JMJcE1HtA/pA0axmgW0D99AkrzhufgP6+n6gbvhuY/2HOmzEkG4j/UmjLvjB7GPzAbXIi6kKw/Nh/lHmSx3T+hob9GQtXrP5q/Igf2POI/ywTtMYmS7z84chHoYX3cPz0DjanyZ+s/yJVzyC966T+IjqHIbx3HPwihMHvlm8w/ynD2Xta90T+sFaGo7rnTP2hC9iPOGMI/wCVHeugEnD+ms8292nraP4cdpTnPp+g/JiTOEMGu2z+4uvcU2InjPwgJBNqKW8c/3HiB3CSH1T9Z/dLaLLDvP3Bu+Dotb78/Uipn0x0f0T9zp9XxLWrlPwQsdksvT9U/fLp7lPYl4j+oVuJzfF3tPxiEmuYH7bo/cjK92lri1T+uUeVbxWvjP+SnV/yxsNQ/jKj4oO9IzD/w1hQD9y7GPxFu9rgih+A/nTfe6UOZ6T8ATXzQw1fFPwHfDEJyGOI/0LI5AzP8yD/4bA32OybjP9RzoL7i+es/yAkGlrVlvz9c1imslz3HP0chYqh6g+k/MD8pMU1NqT9QdXr1ME/sPy56EA8Xut8/MF1xRBL/4D91EXh/LazmP5B1Np4BPLY/Wtbwp92p6j9JBCOJSRrtP+zvjdDckuo/2FsoQDZr3T9OJyMna+zQP85pw/JlLeQ/YEtMZwmH7D/ouLh8YcHkP5iQemZGE+0/vLEoSba30z+Y8B15fOPZP0TNqbtvDts/gnczpTK31z9g+5bUPWW9P1fcOL1jdeU/iDN93X7M5D/qBxeCPR7SP5ic27OLPeI/aSdNoQjR5D++As50POrhPxBbctAIWuE/AL9UY7UnzD+T/Ec06eLhPzg+/OPqsOk/fAWrIM5cxj+AniIE6XCsP9/8gbAUrew/ALWBugSUgT97A9DQhpflP8wsIUH5xOQ/RiYP5QiS0z/WlzoahrjfP4hRMVqJK7U/ZLT9m83bwD/wak63avi6P7CDKomysuE/hC0kIcNOyT/gZFRF7TnQP9qKRlR9u+0/zoDquDO94z/4vgiytlDlP5zAzHTomMU/lVirf59Y5D9ApkjB3e7qP2l7Ofpyp+k/L/e9uAZi5j9GsMrzvV3rP94SFdcKEtg/hr7rMeTQ6T9w2SIu/+KnP4TestgG4dA/hFhFvtju1z9wdrPCsgrbP+8fpXe9jek/fO4IFkU92T/+d+h/3MrhP/TOWDx35e8/BxrDTeSr4T+TnvnS9FflP5iJIX6uErk/Fu0Z2ZW42T9gRULPV+TsP1/rHnpLle0/4FkXP7xntT8qP593kJrvP4jaSuiVbrY/zN4DhgKQ4T+Y/Sh3kmnKPzh4L4VAm90/APRRyHGimz/AZkkhxMDcP64O01GSc9g/5oMDT0tP6D9crO6yLFbnP6pZLZE48+s/iFzfw89bwT9IDs7c4PPpP2nrYTYf4uI/oGteje+Ytb9Sdl3r/H3ev8zgVqi9Gey/eqQ1zQRa5b/+3eIIIWfQvwSVfUAtbNC/Dvyi2ExU7b+Axhtb5zTjv/J9fsR7U92/Mdomvuet4r9uydn4G8zqv6yafvefwee/Wm+yeUy/6r+EMAjTs4jNv6Fb/mQY1O2/xHNPj1BZz7/GqFT4k4nZv24FsIuGyNq/LpHpIF3J2b99LPtlfdLkvxgiUJItNOO/ZOWIYVRJyr9uAsMAIMfev/AGCbCp2b+/qDnoaRwC0r+QfA2btFqmv7yAnKgKzc6/4MnohQTs478Y8WBdvTblv+Z+U0L1BO2/cx+omFsh7L9GvKWmY9TWv54g8KH5Wdq/tbU2IQVv4b/UkMqTLUvPvz7004DAjuu/O5k87KoS57+MWd9wBpDlv2hgNJMVUe2/omwVJnez3L86QnDqUnvvv0DnYotnsY6/hJwODVO12L8m1RqyxcXdv5hEoRNjx8+/ENQf9H53v7+0K3OOYg3Wv07CCGS7CdO/GJi+iun63b94TvL2ilHqv7x9dAciTMe/YnTswt6w7r9LCsoyiZnpv4Dmi+o1lsm/LKhJm6Gy6r/kHLjVierLv+jzL266Vby/Yt0scfau4b8oRWONrOTWv7x07jjvo8K/R89w/ImT7L9B9GOuzOTiv/h4mozkENW/AmTYyuy81r9O5aUZSIHYv5Cs74EMPdm/FvBoElzD27/SpiR+wrDkvwKJqcTWK+C/EirD6KnN6r+JyoLNDwPlv6CFhjowJMW/QETIdfCg7r+Q+XrbjdTmv9C/VQY5XLG/MPlvLqvX3L+kOW/KHmbLv3UiSjpYZOq/GgN6OjEz6L8VM5ccAEjjv0Spnf8UT+O/zJ8QWtGc3b/wb8qlRRS7vygjVVNlec+/kEvhL/Bky7/gZSkunWLdvzj0LRPqU8u/oovJlMwK2L9mUOqMhrfav5agrYsJquq/MCmXwNHTy78IzmlPW9HZv4COMc2Kk92/2rOfZTNe4b+Y4J3f0aS/vyDUblskn5G/f0lGu3QT5L+oYxntHoPcv9gml5yw4MG/F1B12xwM5b8kBQztQc7Pv8ZpW37pB9C/ymm/eN0E1L+KsxTpyAjgvzg3U7j/072/RGSQR+a7zb9xw2COOJDpv4Ch1HDAPbi/0FKXJ6In37+yT2i+xl7Xv2lF66gDc+m/9onbqc84778TN26A2Lrjvx8Iap7h7+a/dm0QWglN17+t4p4f+ijpvy1jMRvAHeu/k/NisAjh5r9eElcUN3ntv8hFItPS67+/i1qboUg96L/n0LvXNpHuv3qBpiYqKdK/lK1DoJ0u0b9IzmBnviLnv/i5T0fnauW/QC6WZAqn0L+ehUFEsrDpv8icAVjF87a/lh2a+X1z0b+E84n0Q+DWv1kHwaBpOOG/ADQfr4jNkL8aXeTnQUbuv5ieSXX1FLa/7lNMjXqY778kupsB25nnvxBcIFwgOMi/WMLlL+9K5b8GdgJhSSXov4cO4wycTey/fjXl54I56L+H/oibR2Hmv1g1ucXBG8W/RCLPuL4dwL+S2oMb7pvfv/kwgmLWf+e/SzmxrqVI5L/gijxypgyRv4gWNTELK8+/\",\"dtype\":\"float64\",\"order\":\"little\",\"shape\":[300]},\"max_iterations\":[99,99,99,99,99,99,99,99,99,99,99,99,99,99,99,99,99,99,99,99,99,99,99,99,99,99,99,99,99,99,99,99,99,99,99,99,99,99,99,99,99,99,99,99,99,99,99,99,99,99,99,99,99,99,99,99,99,99,99,99,99,99,99,99,99,99,99,99,99,99,99,99,99,99,99,99,99,99,99,99,99,99,99,99,99,99,99,99,99,99,99,99,99,99,99,99,99,99,99,99,99,99,99,99,99,99,99,99,99,99,99,99,99,99,99,99,99,99,99,99,99,99,99,99,99,99,99,99,99,99,99,99,99,99,99,99,99,99,99,99,99,99,99,99,99,99,99,99,99,99,98,98,98,98,98,98,98,98,98,98,98,98,98,98,98,98,98,98,98,98,98,98,98,98,98,98,98,98,98,98,98,98,98,98,98,98,98,98,98,98,98,98,98,98,98,98,98,98,98,98,98,98,98,98,98,98,98,98,98,98,98,98,98,98,98,98,98,98,98,98,98,98,98,98,98,98,98,98,98,98,98,98,98,98,98,98,98,98,98,98,98,98,98,98,98,98,98,98,98,98,98,98,98,98,98,98,98,98,98,98,98,98,98,98,98,98,98,98,98,98,98,98,98,98,98,98,98,98,98,98,98,98,98,98,98,98,98,98,98,98,98,98,98,98,98,98,98,98,98,98],\"similarity\":{\"__ndarray__\":\"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\",\"dtype\":\"float64\",\"order\":\"little\",\"shape\":[300]}},\"selected\":{\"id\":\"1051\"},\"selection_policy\":{\"id\":\"1050\"}},\"id\":\"1003\",\"type\":\"ColumnDataSource\"},{\"attributes\":{\"axis\":{\"id\":\"1013\"},\"coordinates\":null,\"group\":null,\"ticker\":null},\"id\":\"1016\",\"type\":\"Grid\"},{\"attributes\":{},\"id\":\"1024\",\"type\":\"SaveTool\"},{\"attributes\":{\"coordinates\":null,\"data_source\":{\"id\":\"1003\"},\"glyph\":{\"id\":\"1037\"},\"group\":null,\"hover_glyph\":null,\"muted_glyph\":{\"id\":\"1039\"},\"nonselection_glyph\":{\"id\":\"1038\"},\"view\":{\"id\":\"1041\"}},\"id\":\"1040\",\"type\":\"GlyphRenderer\"},{\"attributes\":{},\"id\":\"1050\",\"type\":\"UnionRenderers\"},{\"attributes\":{},\"id\":\"1005\",\"type\":\"DataRange1d\"},{\"attributes\":{\"bottom_units\":\"screen\",\"coordinates\":null,\"fill_alpha\":0.5,\"fill_color\":\"lightgrey\",\"group\":null,\"left_units\":\"screen\",\"level\":\"overlay\",\"line_alpha\":1.0,\"line_color\":\"black\",\"line_dash\":[4,4],\"line_width\":2,\"right_units\":\"screen\",\"syncable\":false,\"top_units\":\"screen\"},\"id\":\"1027\",\"type\":\"BoxAnnotation\"},{\"attributes\":{},\"id\":\"1022\",\"type\":\"WheelZoomTool\"},{\"attributes\":{\"label\":{\"field\":\"factors\"},\"renderers\":[{\"id\":\"1040\"}]},\"id\":\"1054\",\"type\":\"LegendItem\"},{\"attributes\":{},\"id\":\"1051\",\"type\":\"Selection\"},{\"attributes\":{},\"id\":\"1025\",\"type\":\"ResetTool\"},{\"attributes\":{\"coordinates\":null,\"formatter\":{\"id\":\"1045\"},\"group\":null,\"major_label_policy\":{\"id\":\"1046\"},\"ticker\":{\"id\":\"1018\"}},\"id\":\"1017\",\"type\":\"LinearAxis\"},{\"attributes\":{\"coordinates\":null,\"group\":null,\"items\":[{\"id\":\"1054\"}]},\"id\":\"1053\",\"type\":\"Legend\"},{\"attributes\":{\"tools\":[{\"id\":\"1021\"},{\"id\":\"1022\"},{\"id\":\"1023\"},{\"id\":\"1024\"},{\"id\":\"1025\"},{\"id\":\"1026\"}]},\"id\":\"1028\",\"type\":\"Toolbar\"},{\"attributes\":{\"overlay\":{\"id\":\"1027\"}},\"id\":\"1023\",\"type\":\"BoxZoomTool\"},{\"attributes\":{},\"id\":\"1048\",\"type\":\"BasicTickFormatter\"},{\"attributes\":{\"axis\":{\"id\":\"1017\"},\"coordinates\":null,\"dimension\":1,\"group\":null,\"ticker\":null},\"id\":\"1020\",\"type\":\"Grid\"},{\"attributes\":{\"fill_alpha\":{\"value\":0.2},\"fill_color\":{\"field\":\"factors\",\"transform\":{\"id\":\"1035\"}},\"hatch_alpha\":{\"value\":0.2},\"hatch_color\":{\"field\":\"factors\",\"transform\":{\"id\":\"1035\"}},\"line_alpha\":{\"value\":0.2},\"line_color\":{\"field\":\"factors\",\"transform\":{\"id\":\"1035\"}},\"x\":{\"field\":\"similarity\"},\"y\":{\"field\":\"jitter\"}},\"id\":\"1039\",\"type\":\"Circle\"},{\"attributes\":{},\"id\":\"1007\",\"type\":\"DataRange1d\"},{\"attributes\":{},\"id\":\"1018\",\"type\":\"BasicTicker\"},{\"attributes\":{\"coordinates\":null,\"formatter\":{\"id\":\"1048\"},\"group\":null,\"major_label_policy\":{\"id\":\"1049\"},\"ticker\":{\"id\":\"1014\"}},\"id\":\"1013\",\"type\":\"LinearAxis\"},{\"attributes\":{\"factors\":[\"99\",\"98\"],\"palette\":[\"#3288bd\",\"#99d594\",\"#e6f598\",\"#fee08b\",\"#fc8d59\",\"#d53e4f\"]},\"id\":\"1035\",\"type\":\"CategoricalColorMapper\"}],\"root_ids\":[\"1004\"]},\"title\":\"Bokeh Application\",\"version\":\"2.4.2\"}};\n",
       "  const render_items = [{\"docid\":\"e628e257-fa87-421b-95bb-9ae2c6eac457\",\"root_ids\":[\"1004\"],\"roots\":{\"1004\":\"17d903e9-5aca-4a7a-82a8-a2e7e71c6835\"}}];\n",
       "  root.Bokeh.embed.embed_items_notebook(docs_json, render_items);\n",
       "\n",
       "  }\n",
       "  if (root.Bokeh !== undefined) {\n",
       "    embed_document(root);\n",
       "  } else {\n",
       "    let attempts = 0;\n",
       "    const timer = setInterval(function(root) {\n",
       "      if (root.Bokeh !== undefined) {\n",
       "        clearInterval(timer);\n",
       "        embed_document(root);\n",
       "      } else {\n",
       "        attempts++;\n",
       "        if (attempts > 100) {\n",
       "          clearInterval(timer);\n",
       "          console.log(\"Bokeh: ERROR: Unable to run BokehJS code because BokehJS library is missing\");\n",
       "        }\n",
       "      }\n",
       "    }, 10, root)\n",
       "  }\n",
       "})(window);"
      ],
      "application/vnd.bokehjs_exec.v0+json": ""
     },
     "metadata": {
      "application/vnd.bokehjs_exec.v0+json": {
       "id": "1004"
      }
     },
     "output_type": "display_data"
    }
   ],
   "source": [
    "df = pd.DataFrame({\n",
    "    \"max_iterations\": mi,\n",
    "    \"convergence\": conv,\n",
    "    \"similarity\": sim,\n",
    "    \"jitter\": jit,\n",
    "})\n",
    "\n",
    "df[\"factors\"] = df.convergence.astype(str)\n",
    "df[\"factors\"] = df.max_iterations.astype(str)\n",
    "s = ColumnDataSource(df)\n",
    "p = figure(width=800, height=400)\n",
    "color = factor_cmap(\n",
    "    'factors', palette=Spectral6, factors=df.factors.unique())\n",
    "p.circle(x='similarity', y='jitter', source=s, color=color, legend_field='factors')\n",
    "show(p)"
   ]
  },
  {
   "cell_type": "markdown",
   "metadata": {},
   "source": [
    "# Test the convergence of the letter A\n",
    "We tested random arrays so far, so let's go for a real letter. In the following example we test\n",
    "the letter A. It works well but if one raises the `flaw_intensity` over $.4$ it keeps converging\n",
    "even though the real letter is not clear anymore for a human being."
   ]
  },
  {
   "cell_type": "code",
   "execution_count": 8,
   "metadata": {},
   "outputs": [
    {
     "data": {
      "text/plain": [
       "<Figure size 432x288 with 0 Axes>"
      ]
     },
     "metadata": {},
     "output_type": "display_data"
    },
    {
     "data": {
      "image/png": "[encoded data removed]",
      "text/plain": [
       "<Figure size 288x288 with 1 Axes>"
      ]
     },
     "metadata": {
      "needs_background": "light"
     },
     "output_type": "display_data"
    },
    {
     "data": {
      "text/plain": [
       "<Figure size 432x288 with 0 Axes>"
      ]
     },
     "metadata": {},
     "output_type": "display_data"
    },
    {
     "data": {
      "image/png": "[encoded data removed]",
      "text/plain": [
       "<Figure size 288x288 with 1 Axes>"
      ]
     },
     "metadata": {
      "needs_background": "light"
     },
     "output_type": "display_data"
    },
    {
     "data": {
      "text/plain": [
       "(99, True, 0.83625)"
      ]
     },
     "execution_count": 8,
     "metadata": {},
     "output_type": "execute_result"
    }
   ],
   "source": [
    "a = GenerateArrayFromImage('sample-images/a.jpeg', plot=True, flaw_intensity=.2)\n",
    "a.run()\n",
    "k0 = 2 * a.image_array.ravel() - 1\n",
    "k1 = 2 * a.flaw_array.ravel() - 1\n",
    "h = Hebbian(k0, k1, max_iterations=100)\n",
    "h.run()\n",
    "similarity = (k0 == k1).sum() / k0.size\n",
    "h.max_iterations, h.has_converged(), similarity"
   ]
  },
  {
   "cell_type": "markdown",
   "metadata": {},
   "source": [
    "# Find inner cycles\n",
    "We saw that when similarity is under 50% the the network is not able anymore to converge and it exhausts all the loops. In such cases we might want to find inner cycles, that is, when the network returns to a previous set of values.\n",
    "As we have this functionality implemented in the code we can run a bunch of experiments to notice what is the max number of iterations it takes for a newtwork to either converge or find a loop before converging."
   ]
  },
  {
   "cell_type": "code",
   "execution_count": 9,
   "metadata": {},
   "outputs": [
    {
     "data": {
      "text/html": [
       "<div>\n",
       "<style scoped>\n",
       "    .dataframe tbody tr th:only-of-type {\n",
       "        vertical-align: middle;\n",
       "    }\n",
       "\n",
       "    .dataframe tbody tr th {\n",
       "        vertical-align: top;\n",
       "    }\n",
       "\n",
       "    .dataframe thead th {\n",
       "        text-align: right;\n",
       "    }\n",
       "</style>\n",
       "<table border=\"1\" class=\"dataframe\">\n",
       "  <thead>\n",
       "    <tr style=\"text-align: right;\">\n",
       "      <th></th>\n",
       "      <th></th>\n",
       "      <th>id</th>\n",
       "    </tr>\n",
       "    <tr>\n",
       "      <th>has_converged</th>\n",
       "      <th>iterations</th>\n",
       "      <th></th>\n",
       "    </tr>\n",
       "  </thead>\n",
       "  <tbody>\n",
       "    <tr>\n",
       "      <th>False</th>\n",
       "      <th>3</th>\n",
       "      <td>332</td>\n",
       "    </tr>\n",
       "    <tr>\n",
       "      <th>True</th>\n",
       "      <th>2</th>\n",
       "      <td>68</td>\n",
       "    </tr>\n",
       "  </tbody>\n",
       "</table>\n",
       "</div>"
      ],
      "text/plain": [
       "                           id\n",
       "has_converged iterations     \n",
       "False         3           332\n",
       "True          2            68"
      ]
     },
     "execution_count": 9,
     "metadata": {},
     "output_type": "execute_result"
    }
   ],
   "source": [
    "size = 400\n",
    "no_of_experiments = 400\n",
    "has_converged, iterations = list(), list()\n",
    "np.random.seed(10)\n",
    "for _ in range(no_of_experiments):\n",
    "    k0 = 2 * np.random.binomial(1, .4, size=size) - 1\n",
    "    k1 = 2 * np.random.binomial(1, .6, size=size) - 1\n",
    "    h = Hebbian(k0, k1, max_iterations=100)\n",
    "    h.run()\n",
    "    h.max_iterations, h.has_converged(), h.looped_back_to_initial(), similarity\n",
    "    has_converged.append(h.has_converged())\n",
    "    iterations.append(len(h.history))\n",
    "outcomes = pd.DataFrame({\n",
    "    'has_converged': has_converged,\n",
    "    'iterations': iterations,\n",
    "    'id': np.arange(no_of_experiments)\n",
    "})\n",
    "outcomes.groupby(['has_converged', 'iterations']).count()"
   ]
  },
  {
   "cell_type": "markdown",
   "metadata": {},
   "source": [
    "Playing with above we can see that the it takes to the network one cycle to converge or diverge (as the first row in the history array is the flawed image)"
   ]
  },
  {
   "cell_type": "markdown",
   "metadata": {},
   "source": [
    "# Several --random and independent-- patterns"
   ]
  },
  {
   "cell_type": "code",
   "execution_count": 96,
   "metadata": {},
   "outputs": [
    {
     "data": {
      "text/plain": [
       "array([[-1, -1, -1, ..., -1, -1, -1],\n",
       "       [-1,  1, -1, ..., -1, -1, -1],\n",
       "       [ 1,  1,  1, ...,  1, -1,  1],\n",
       "       [ 1,  1,  1, ...,  1,  1, -1],\n",
       "       [ 1, -1,  1, ...,  1,  1,  1]])"
      ]
     },
     "execution_count": 96,
     "metadata": {},
     "output_type": "execute_result"
    }
   ],
   "source": [
    "2 * np.random.randint(0, 2) - 1\n",
    "2 * np.random.uniform() -1\n",
    "\n",
    "several_patterns = 2 * np.array([\n",
    "    np.random.binomial(1, p, size=size) for p in np.linspace(.1, .9, 5)\n",
    "]) -1\n",
    "2 * patterns -1"
   ]
  },
  {
   "cell_type": "code",
   "execution_count": 113,
   "metadata": {},
   "outputs": [],
   "source": [
    "def self_similarity(array):\n",
    "    \"\"\"\n",
    "    Determine the ratio of the coincidences in an array.\n",
    "    \n",
    "    Sometimes we might want how similar rows in a matrix are, more precisely what is the\n",
    "    matching ratio between rows.\n",
    "    \n",
    "    Args:\n",
    "        * array: a mxn numpy array \n",
    "        \n",
    "    Returns:\n",
    "        * a mxm array\n",
    "    \n",
    "    Given a matrix m:\n",
    "    m = np.array([\n",
    "        [1, 2, 3],  # 1\n",
    "        [1, 3, 3],  # 2\n",
    "        [0, 2, 1],  # 3\n",
    "        [0, 0, 0]   # 4\n",
    "    ])\n",
    "    The self_similarity then is\n",
    "    ss = np.array([\n",
    "        [1, 2/3, 1/3, 0]  # 11, 12, 13, 14\n",
    "        [2/3, 1, 0, 0]    # 21, 22, 23, 24\n",
    "        [1/3, 0, 1, 1/3]  # 31, 32, 33, 34\n",
    "        [0, 0, 1/3, 1]    # 41, 42, 43, 44\n",
    "    ])\n",
    "    \"\"\"\n",
    "    self_similarity = list()\n",
    "    output_size = (array.shape[0], array.shape[0])\n",
    "    for pattern in array:\n",
    "        for target in array:\n",
    "            self_similarity.append((pattern == target).sum())\n",
    "    ss = np.array(self_similarity).reshape(5, 5) / max(self_similarity)\n",
    "    return ss\n",
    "\n",
    "size = 100\n",
    "np.random.seed(10)\n",
    "several_patterns_1 = 2 * np.random.binomial(1, .5, size=(5, size)) - 1\n",
    "several_patterns_2 = 2 * np.random.randint(0, 2, size=(5, size)) - 1\n",
    "several_patterns_3 = 2 * np.random.binomial(1, np.random.uniform(size=size), size=(5, size)) - 1\n",
    "several_patterns_4 = 2 * np.array([\n",
    "    np.random.binomial(1, p, size=size) for p in np.linspace(.1, .9, 5)\n",
    "]) -1\n",
    "self_similarity(several_patterns_1).mean(axis=1), self_similarity(several_patterns_4).mean(axis=1)\n",
    "self_similarity(several_patterns_4)\n"
   ]
  },
  {
   "cell_type": "code",
   "execution_count": 103,
   "metadata": {},
   "outputs": [
    {
     "data": {
      "text/plain": [
       "array([[1.2, 0.2, 0.2, ..., 0.2, 0.2, 0.4],\n",
       "       [0.2, 1.2, 1.2, ..., 1.2, 1.2, 0.4],\n",
       "       [0.2, 1.2, 1.2, ..., 1.2, 1.2, 0.4],\n",
       "       ...,\n",
       "       [0.2, 1.2, 1.2, ..., 1.2, 1.2, 0.4],\n",
       "       [0.2, 1.2, 1.2, ..., 1.2, 1.2, 0.4],\n",
       "       [0.4, 0.4, 0.4, ..., 0.4, 0.4, 0.8]])"
      ]
     },
     "execution_count": 103,
     "metadata": {},
     "output_type": "execute_result"
    }
   ],
   "source": [
    "np.cov(several_patterns.T)"
   ]
  },
  {
   "cell_type": "code",
   "execution_count": 25,
   "metadata": {},
   "outputs": [],
   "source": [
    "k1 = alter_array(k0, n)\n",
    "# h = Hebbian(several_patterns, )"
   ]
  },
  {
   "cell_type": "markdown",
   "metadata": {},
   "source": [
    "# Multiple images"
   ]
  },
  {
   "cell_type": "code",
   "execution_count": 10,
   "metadata": {},
   "outputs": [
    {
     "data": {
      "text/plain": [
       "<Figure size 432x288 with 0 Axes>"
      ]
     },
     "metadata": {},
     "output_type": "display_data"
    },
    {
     "data": {
      "image/png": "[encoded data removed]",
      "text/plain": [
       "<Figure size 288x288 with 1 Axes>"
      ]
     },
     "metadata": {
      "needs_background": "light"
     },
     "output_type": "display_data"
    },
    {
     "data": {
      "text/plain": [
       "<Figure size 432x288 with 0 Axes>"
      ]
     },
     "metadata": {},
     "output_type": "display_data"
    },
    {
     "data": {
      "image/png": "[encoded data removed]",
      "text/plain": [
       "<Figure size 288x288 with 1 Axes>"
      ]
     },
     "metadata": {
      "needs_background": "light"
     },
     "output_type": "display_data"
    },
    {
     "data": {
      "text/plain": [
       "<Figure size 432x288 with 0 Axes>"
      ]
     },
     "metadata": {},
     "output_type": "display_data"
    },
    {
     "data": {
      "image/png": "[encoded data removed]",
      "text/plain": [
       "<Figure size 288x288 with 1 Axes>"
      ]
     },
     "metadata": {
      "needs_background": "light"
     },
     "output_type": "display_data"
    },
    {
     "data": {
      "text/plain": [
       "<Figure size 432x288 with 0 Axes>"
      ]
     },
     "metadata": {},
     "output_type": "display_data"
    },
    {
     "data": {
      "image/png": "[encoded data removed]",
      "text/plain": [
       "<Figure size 288x288 with 1 Axes>"
      ]
     },
     "metadata": {
      "needs_background": "light"
     },
     "output_type": "display_data"
    }
   ],
   "source": [
    "# Generate the image arrays\n",
    "a = GenerateArrayFromImage('sample-images/a.jpeg', flaw_intensity=.2)\n",
    "b = GenerateArrayFromImage('sample-images/b.jpeg', flaw_intensity=.2)\n",
    "c = GenerateArrayFromImage('sample-images/c.jpeg', flaw_intensity=.2)\n",
    "letters = [a, b, c]\n",
    "[letter.run() for letter in letters]\n",
    "\n",
    "# Plot what we have so far\n",
    "[letter.plot_bitmap(letter.image_array) for letter in letters]\n",
    "letters[0].plot_bitmap(letters[0].flaw_array)\n",
    "\n",
    "# Create the input for the Hebbian class\n",
    "k0 = np.array(\n",
    "    [2 * letter.image_array.ravel() -1 for letter in letters]\n",
    ")\n",
    "k1 = 2 * letters[0].flaw_array.ravel() - 1"
   ]
  },
  {
   "cell_type": "code",
   "execution_count": 11,
   "metadata": {},
   "outputs": [
    {
     "data": {
      "text/plain": [
       "(98, False, 0.83)"
      ]
     },
     "execution_count": 11,
     "metadata": {},
     "output_type": "execute_result"
    }
   ],
   "source": [
    "h = Hebbian(k0, k1, max_iterations=100)\n",
    "h.run()\n",
    "similarity = (k0[0] == k1).sum() / k0[0].size\n",
    "h.max_iterations, h.has_converged(), similarity"
   ]
  },
  {
   "cell_type": "code",
   "execution_count": 12,
   "metadata": {},
   "outputs": [
    {
     "data": {
      "text/plain": [
       "True"
      ]
     },
     "execution_count": 12,
     "metadata": {},
     "output_type": "execute_result"
    }
   ],
   "source": [
    "(h.history[-1] == k0[1]).all()\n",
    "(h.history[-1] == h.history[-2]).all()"
   ]
  },
  {
   "cell_type": "code",
   "execution_count": null,
   "metadata": {},
   "outputs": [],
   "source": []
  }
 ],
 "metadata": {
  "kernelspec": {
   "display_name": "Python 3 (ipykernel)",
   "language": "python",
   "name": "python3"
  },
  "language_info": {
   "codemirror_mode": {
    "name": "ipython",
    "version": 3
   },
   "file_extension": ".py",
   "mimetype": "text/x-python",
   "name": "python",
   "nbconvert_exporter": "python",
   "pygments_lexer": "ipython3",
   "version": "3.8.2"
  },
  "toc-autonumbering": true
 },
 "nbformat": 4,
 "nbformat_minor": 4
}
